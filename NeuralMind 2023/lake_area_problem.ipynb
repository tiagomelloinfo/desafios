{
  "nbformat": 4,
  "nbformat_minor": 0,
  "metadata": {
    "colab": {
      "provenance": []
    },
    "kernelspec": {
      "name": "python3",
      "display_name": "Python 3"
    },
    "language_info": {
      "name": "python"
    }
  },
  "cells": [
    {
      "cell_type": "markdown",
      "source": [
        "# Exercício Python no notebook Google Colab"
      ],
      "metadata": {
        "id": "3ZLqMhUapp4O"
      }
    },
    {
      "cell_type": "markdown",
      "source": [
        "ATENÇÃO: Primeiro copie esse notebook para sua área, resolva-o e retorne o seu link no formulário, não esquecendo de compartilhar o seu notebook Colab com qualquer pessoa que tenha acesso ao link."
      ],
      "metadata": {
        "id": "2RVMzCvAyQtB"
      }
    },
    {
      "cell_type": "markdown",
      "source": [
        "## Preencha seu nome e email:\n",
        "\n",
        "Nome: Tiago Mello\n",
        "\n",
        "Email: tiagomello.ds@gmail.com"
      ],
      "metadata": {
        "id": "oiBYTaycO4AS"
      }
    },
    {
      "cell_type": "markdown",
      "source": [
        "## Enunciado\n",
        "Você receberá uma matriz (uma lista de listas) de, possivelmente, altura e largura diferentes contendo apenas `0`s e `1`s. Cada `0` representa terra e cada `1` representa água. Uma lagoa é composta por qualquer número de `1`s verticalmente ou horizontalmente adjacentes (mas não diagonalmente adjacentes). O número de `1`s adjacentes determina a área da lagoa.\n",
        "\n",
        "Escreva uma função que retorna uma lista com as áreas das lagoas contidas na matriz em ordem crescente."
      ],
      "metadata": {
        "id": "0Zj3u99uRFqI"
      }
    },
    {
      "cell_type": "markdown",
      "source": [
        "Um exemplo é:\n",
        "\n",
        "Dada a matriz\n",
        "\n",
        "```\n",
        "matrix = [\n",
        "    [1, 1, 0, 1, 0],\n",
        "    [1, 0, 1, 0, 0],\n",
        "    [0, 0, 1, 0, 1],\n",
        "    [1, 0, 1, 0, 1],\n",
        "    [1, 0, 1, 1, 0]\n",
        "]\n",
        "```\n",
        "A resposta esperada é uma lista com os tamanhos dos rios\n",
        "\n",
        "```\n",
        "sizes = [1, 2, 2, 3, 5]\n",
        "```"
      ],
      "metadata": {
        "id": "46MxEtZhVS1Q"
      }
    },
    {
      "cell_type": "markdown",
      "source": [
        "Os critérios de avaliação são legibilidade do código e corretude do algoritmo, outros aspectos como performance e técnicas de programação não serão avaliados."
      ],
      "metadata": {
        "id": "JH3Ixn1AUu8O"
      }
    },
    {
      "cell_type": "markdown",
      "source": [
        "Você pode usar qualquer função built-in do python, pode utilizar funções auxiliares, criar classes e etc. Deve-se apenas manter a assinatura da função `lake_areas`. Na dúvida, submeter sua melhor tentativa documentando seu raciocínio é melhor do que não submeter nada :)"
      ],
      "metadata": {
        "id": "JgW3yfL5Sux1"
      }
    },
    {
      "cell_type": "code",
      "source": [
        "class Lagoas:\n",
        "  response: list = []\n",
        "\n",
        "  def __init__(self, matrix: List[List[int]]):\n",
        "    self.matrix = matrix\n",
        "    self.set_lagos()\n",
        "    self.set_lagoas()\n",
        "    self.set_response()\n",
        "\n",
        "  # Separa as posições que possuem valor 1\n",
        "  def set_lagos(self):\n",
        "    self.lagos = []\n",
        "    for linha in range(len(self.matrix)):\n",
        "      for area in range(len(self.matrix[linha])):\n",
        "        if self.matrix[linha][area] == 1:\n",
        "          self.lagos.append((linha, area))\n",
        "    self.lagoas = {0: []}\n",
        "\n",
        "  # Cria agrupamentos de acordo com a política de proximidade entre clusters\n",
        "  def set_lagoas(self):\n",
        "    nova_lagoa = 0\n",
        "    for lago in self.lagos:\n",
        "      foi_alocado = False\n",
        "      for lagoa in self.lagoas.keys():\n",
        "        validacao = self.lagoas[lagoa]\n",
        "        if (lago[0] + 1, lago[0]) in validacao \\\n",
        "        or (lago[0] - 1, lago[1]) in validacao \\\n",
        "        or (lago[0], lago[1] + 1) in validacao \\\n",
        "        or (lago[0], lago[1] - 1) in validacao:\n",
        "          self.lagoas[lagoa].append(lago)\n",
        "          foi_alocado = True\n",
        "\n",
        "      if not foi_alocado:\n",
        "        self.lagoas[nova_lagoa] = [lago]\n",
        "        nova_lagoa += 1\n",
        "\n",
        "  # Cria lista com o tamanho de cada cluster, de forma ordenada\n",
        "  def set_response(self):\n",
        "    lista = []\n",
        "    for chave in self.lagoas.keys():\n",
        "      lista.append(len(self.lagoas[chave]))\n",
        "\n",
        "    self.response = sorted(lista)"
      ],
      "metadata": {
        "id": "YlTIi5LDcHel"
      },
      "execution_count": 211,
      "outputs": []
    },
    {
      "cell_type": "code",
      "source": [
        "from typing import List\n",
        "\n",
        "def lake_areas(matrix: List[List[int]]) -> List[int]:\n",
        "    lagoas = Lagoas(matrix)\n",
        "    return lagoas.response"
      ],
      "metadata": {
        "id": "ZqixjszATBjE"
      },
      "execution_count": 212,
      "outputs": []
    },
    {
      "cell_type": "code",
      "source": [
        "# Teste\n",
        "matrix = [\n",
        "    [1, 1, 0, 1, 0],\n",
        "    [1, 0, 1, 0, 0],\n",
        "    [0, 0, 1, 0, 1],\n",
        "    [1, 0, 1, 0, 1],\n",
        "    [1, 0, 1, 1, 0]\n",
        "]\n",
        "\n",
        "lake_areas(matrix)"
      ],
      "metadata": {
        "id": "EdFuKReN7S1v",
        "outputId": "7950f293-2537-4038-af6a-ac5b54ea7ca1",
        "colab": {
          "base_uri": "https://localhost:8080/"
        }
      },
      "execution_count": 213,
      "outputs": [
        {
          "output_type": "execute_result",
          "data": {
            "text/plain": [
              "[1, 2, 2, 3, 5]"
            ]
          },
          "metadata": {},
          "execution_count": 213
        }
      ]
    }
  ]
}
